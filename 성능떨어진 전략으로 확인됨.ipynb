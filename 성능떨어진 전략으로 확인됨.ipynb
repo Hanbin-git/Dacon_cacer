{
  "nbformat": 4,
  "nbformat_minor": 0,
  "metadata": {
    "colab": {
      "provenance": [],
      "gpuType": "T4",
      "mount_file_id": "19-yg0FHUWBrYxzFaVSvu1KCjZVoq3jJk",
      "authorship_tag": "ABX9TyMoguo6kLBRV+bUf9y9uJ1K",
      "include_colab_link": true
    },
    "kernelspec": {
      "name": "python3",
      "display_name": "Python 3"
    },
    "language_info": {
      "name": "python"
    },
    "accelerator": "GPU"
  },
  "cells": [
    {
      "cell_type": "markdown",
      "metadata": {
        "id": "view-in-github",
        "colab_type": "text"
      },
      "source": [
        "<a href=\"https://colab.research.google.com/github/Hanbin-git/Dacon_cacer/blob/main/%EC%84%B1%EB%8A%A5%EB%96%A8%EC%96%B4%EC%A7%84%20%EC%A0%84%EB%9E%B5%EC%9C%BC%EB%A1%9C%20%ED%99%95%EC%9D%B8%EB%90%A8.ipynb\" target=\"_parent\"><img src=\"https://colab.research.google.com/assets/colab-badge.svg\" alt=\"Open In Colab\"/></a>"
      ]
    },
    {
      "cell_type": "code",
      "source": [
        "from google.colab import drive\n",
        "drive.mount('/content/drive')"
      ],
      "metadata": {
        "colab": {
          "base_uri": "https://localhost:8080/"
        },
        "id": "67Tx9btmkX7m",
        "outputId": "a4e4ba09-0cf3-4060-cf27-8f2cba20f2e0"
      },
      "execution_count": 1,
      "outputs": [
        {
          "output_type": "stream",
          "name": "stdout",
          "text": [
            "Drive already mounted at /content/drive; to attempt to forcibly remount, call drive.mount(\"/content/drive\", force_remount=True).\n"
          ]
        }
      ]
    },
    {
      "cell_type": "code",
      "source": [
        "!unzip -o \"/content/drive/MyDrive/open_1.zip\" -d \"/content/open_1\"\n"
      ],
      "metadata": {
        "colab": {
          "base_uri": "https://localhost:8080/"
        },
        "id": "wuaLWGZLg1cb",
        "outputId": "2961497a-f5b9-4b2e-d9c7-d1a19018b0ac"
      },
      "execution_count": 2,
      "outputs": [
        {
          "output_type": "stream",
          "name": "stdout",
          "text": [
            "Archive:  /content/drive/MyDrive/open_1.zip\n",
            "  inflating: /content/open_1/sample_submission.csv  \n",
            "  inflating: /content/open_1/test.csv  \n",
            "  inflating: /content/open_1/train.csv  \n"
          ]
        }
      ]
    },
    {
      "cell_type": "code",
      "source": [
        "import os\n",
        "\n",
        "def get_path(filename):\n",
        "    return \"/content/open_1/\" + filename\n"
      ],
      "metadata": {
        "id": "X47pnDLzhGy6"
      },
      "execution_count": 3,
      "outputs": []
    },
    {
      "cell_type": "code",
      "source": [
        "# SMOTE 설치\n",
        "!pip install -U imbalanced-learn\n",
        "!pip install lightgbm catboost optuna\n",
        "\n"
      ],
      "metadata": {
        "colab": {
          "base_uri": "https://localhost:8080/"
        },
        "id": "c1_zgPGeiKVN",
        "outputId": "7e023a6f-6790-4a60-a632-38f9bd9533e9"
      },
      "execution_count": 4,
      "outputs": [
        {
          "output_type": "stream",
          "name": "stdout",
          "text": [
            "Requirement already satisfied: imbalanced-learn in /usr/local/lib/python3.11/dist-packages (0.13.0)\n",
            "Requirement already satisfied: numpy<3,>=1.24.3 in /usr/local/lib/python3.11/dist-packages (from imbalanced-learn) (2.0.2)\n",
            "Requirement already satisfied: scipy<2,>=1.10.1 in /usr/local/lib/python3.11/dist-packages (from imbalanced-learn) (1.15.3)\n",
            "Requirement already satisfied: scikit-learn<2,>=1.3.2 in /usr/local/lib/python3.11/dist-packages (from imbalanced-learn) (1.6.1)\n",
            "Requirement already satisfied: sklearn-compat<1,>=0.1 in /usr/local/lib/python3.11/dist-packages (from imbalanced-learn) (0.1.3)\n",
            "Requirement already satisfied: joblib<2,>=1.1.1 in /usr/local/lib/python3.11/dist-packages (from imbalanced-learn) (1.5.1)\n",
            "Requirement already satisfied: threadpoolctl<4,>=2.0.0 in /usr/local/lib/python3.11/dist-packages (from imbalanced-learn) (3.6.0)\n",
            "Requirement already satisfied: lightgbm in /usr/local/lib/python3.11/dist-packages (4.5.0)\n",
            "Collecting catboost\n",
            "  Downloading catboost-1.2.8-cp311-cp311-manylinux2014_x86_64.whl.metadata (1.2 kB)\n",
            "Collecting optuna\n",
            "  Downloading optuna-4.4.0-py3-none-any.whl.metadata (17 kB)\n",
            "Requirement already satisfied: numpy>=1.17.0 in /usr/local/lib/python3.11/dist-packages (from lightgbm) (2.0.2)\n",
            "Requirement already satisfied: scipy in /usr/local/lib/python3.11/dist-packages (from lightgbm) (1.15.3)\n",
            "Requirement already satisfied: graphviz in /usr/local/lib/python3.11/dist-packages (from catboost) (0.20.3)\n",
            "Requirement already satisfied: matplotlib in /usr/local/lib/python3.11/dist-packages (from catboost) (3.10.0)\n",
            "Requirement already satisfied: pandas>=0.24 in /usr/local/lib/python3.11/dist-packages (from catboost) (2.2.2)\n",
            "Requirement already satisfied: plotly in /usr/local/lib/python3.11/dist-packages (from catboost) (5.24.1)\n",
            "Requirement already satisfied: six in /usr/local/lib/python3.11/dist-packages (from catboost) (1.17.0)\n",
            "Collecting alembic>=1.5.0 (from optuna)\n",
            "  Downloading alembic-1.16.2-py3-none-any.whl.metadata (7.3 kB)\n",
            "Collecting colorlog (from optuna)\n",
            "  Downloading colorlog-6.9.0-py3-none-any.whl.metadata (10 kB)\n",
            "Requirement already satisfied: packaging>=20.0 in /usr/local/lib/python3.11/dist-packages (from optuna) (24.2)\n",
            "Requirement already satisfied: sqlalchemy>=1.4.2 in /usr/local/lib/python3.11/dist-packages (from optuna) (2.0.41)\n",
            "Requirement already satisfied: tqdm in /usr/local/lib/python3.11/dist-packages (from optuna) (4.67.1)\n",
            "Requirement already satisfied: PyYAML in /usr/local/lib/python3.11/dist-packages (from optuna) (6.0.2)\n",
            "Requirement already satisfied: Mako in /usr/lib/python3/dist-packages (from alembic>=1.5.0->optuna) (1.1.3)\n",
            "Requirement already satisfied: typing-extensions>=4.12 in /usr/local/lib/python3.11/dist-packages (from alembic>=1.5.0->optuna) (4.14.0)\n",
            "Requirement already satisfied: python-dateutil>=2.8.2 in /usr/local/lib/python3.11/dist-packages (from pandas>=0.24->catboost) (2.9.0.post0)\n",
            "Requirement already satisfied: pytz>=2020.1 in /usr/local/lib/python3.11/dist-packages (from pandas>=0.24->catboost) (2025.2)\n",
            "Requirement already satisfied: tzdata>=2022.7 in /usr/local/lib/python3.11/dist-packages (from pandas>=0.24->catboost) (2025.2)\n",
            "Requirement already satisfied: greenlet>=1 in /usr/local/lib/python3.11/dist-packages (from sqlalchemy>=1.4.2->optuna) (3.2.3)\n",
            "Requirement already satisfied: contourpy>=1.0.1 in /usr/local/lib/python3.11/dist-packages (from matplotlib->catboost) (1.3.2)\n",
            "Requirement already satisfied: cycler>=0.10 in /usr/local/lib/python3.11/dist-packages (from matplotlib->catboost) (0.12.1)\n",
            "Requirement already satisfied: fonttools>=4.22.0 in /usr/local/lib/python3.11/dist-packages (from matplotlib->catboost) (4.58.2)\n",
            "Requirement already satisfied: kiwisolver>=1.3.1 in /usr/local/lib/python3.11/dist-packages (from matplotlib->catboost) (1.4.8)\n",
            "Requirement already satisfied: pillow>=8 in /usr/local/lib/python3.11/dist-packages (from matplotlib->catboost) (11.2.1)\n",
            "Requirement already satisfied: pyparsing>=2.3.1 in /usr/local/lib/python3.11/dist-packages (from matplotlib->catboost) (3.2.3)\n",
            "Requirement already satisfied: tenacity>=6.2.0 in /usr/local/lib/python3.11/dist-packages (from plotly->catboost) (9.1.2)\n",
            "Downloading catboost-1.2.8-cp311-cp311-manylinux2014_x86_64.whl (99.2 MB)\n",
            "\u001b[2K   \u001b[90m━━━━━━━━━━━━━━━━━━━━━━━━━━━━━━━━━━━━━━━━\u001b[0m \u001b[32m99.2/99.2 MB\u001b[0m \u001b[31m9.6 MB/s\u001b[0m eta \u001b[36m0:00:00\u001b[0m\n",
            "\u001b[?25hDownloading optuna-4.4.0-py3-none-any.whl (395 kB)\n",
            "\u001b[2K   \u001b[90m━━━━━━━━━━━━━━━━━━━━━━━━━━━━━━━━━━━━━━━━\u001b[0m \u001b[32m395.9/395.9 kB\u001b[0m \u001b[31m32.3 MB/s\u001b[0m eta \u001b[36m0:00:00\u001b[0m\n",
            "\u001b[?25hDownloading alembic-1.16.2-py3-none-any.whl (242 kB)\n",
            "\u001b[2K   \u001b[90m━━━━━━━━━━━━━━━━━━━━━━━━━━━━━━━━━━━━━━━━\u001b[0m \u001b[32m242.7/242.7 kB\u001b[0m \u001b[31m22.2 MB/s\u001b[0m eta \u001b[36m0:00:00\u001b[0m\n",
            "\u001b[?25hDownloading colorlog-6.9.0-py3-none-any.whl (11 kB)\n",
            "Installing collected packages: colorlog, alembic, optuna, catboost\n",
            "Successfully installed alembic-1.16.2 catboost-1.2.8 colorlog-6.9.0 optuna-4.4.0\n"
          ]
        }
      ]
    },
    {
      "cell_type": "code",
      "source": [
        "!pip install xgboost lightgbm\n"
      ],
      "metadata": {
        "colab": {
          "base_uri": "https://localhost:8080/"
        },
        "id": "wQYHGK26izq6",
        "outputId": "31e69aea-64b3-40f2-ca6a-95dc1103dba6"
      },
      "execution_count": 5,
      "outputs": [
        {
          "output_type": "stream",
          "name": "stdout",
          "text": [
            "Requirement already satisfied: xgboost in /usr/local/lib/python3.11/dist-packages (2.1.4)\n",
            "Requirement already satisfied: lightgbm in /usr/local/lib/python3.11/dist-packages (4.5.0)\n",
            "Requirement already satisfied: numpy in /usr/local/lib/python3.11/dist-packages (from xgboost) (2.0.2)\n",
            "Requirement already satisfied: nvidia-nccl-cu12 in /usr/local/lib/python3.11/dist-packages (from xgboost) (2.21.5)\n",
            "Requirement already satisfied: scipy in /usr/local/lib/python3.11/dist-packages (from xgboost) (1.15.3)\n"
          ]
        }
      ]
    },
    {
      "cell_type": "code",
      "source": [
        "import pandas as pd\n",
        "import numpy as np\n",
        "import os\n",
        "\n",
        "# 경로 함수 정의\n",
        "def get_path(filename):\n",
        "    return \"/content/open_1/\" + filename\n",
        "\n",
        "# 데이터 로딩\n",
        "train = pd.read_csv(get_path(\"train.csv\"))\n",
        "test = pd.read_csv(get_path(\"test.csv\"))\n",
        "\n",
        "# target 분리\n",
        "y = train['Cancer']\n",
        "X = train.drop(columns=['ID', 'Cancer'])\n",
        "X_test = test.drop(columns=['ID'])\n"
      ],
      "metadata": {
        "id": "pmzKE7PQpvMd"
      },
      "execution_count": 6,
      "outputs": []
    },
    {
      "cell_type": "code",
      "source": [
        "import pandas as pd\n",
        "import numpy as np\n",
        "from sklearn.model_selection import StratifiedKFold\n",
        "from sklearn.preprocessing import LabelEncoder\n",
        "from sklearn.impute import SimpleImputer\n",
        "from sklearn.metrics import f1_score\n",
        "from sklearn.ensemble import VotingClassifier\n",
        "from xgboost import XGBClassifier\n",
        "from lightgbm import LGBMClassifier\n",
        "from catboost import CatBoostClassifier\n",
        "\n",
        "# 경로 함수\n",
        "def get_path(filename):\n",
        "    return \"/content/open_1/\" + filename\n",
        "\n",
        "# 데이터 로드\n",
        "train = pd.read_csv(get_path(\"train.csv\"))\n",
        "test = pd.read_csv(get_path(\"test.csv\"))\n",
        "submission = pd.read_csv(get_path(\"sample_submission.csv\"))\n",
        "\n",
        "# Target 분리\n",
        "y = train['Cancer']\n",
        "X = train.drop(columns=['ID', 'Cancer'])\n",
        "X_test = test.drop(columns=['ID'])\n",
        "\n",
        "# ✅ 파생변수 생성 함수\n",
        "def add_derived_features(df):\n",
        "    df = df.copy()\n",
        "    num_cols = df.select_dtypes(include='number').columns.tolist()\n",
        "\n",
        "    for col in num_cols:\n",
        "        df[f'{col}_squared'] = df[col] ** 2\n",
        "        df[f'{col}_sqrt'] = np.sqrt(np.abs(df[col]))\n",
        "        df[f'{col}_log'] = np.log1p(np.abs(df[col]))\n",
        "\n",
        "    if 'TSH' in df.columns and 'T4' in df.columns:\n",
        "        df['T4_TSH_ratio'] = df['T4'] / (df['TSH'] + 1e-3)\n",
        "\n",
        "    if 'T3' in df.columns and 'Nodule_Size' in df.columns:\n",
        "        df['T3_times_Nodule'] = df['T3'] * df['Nodule_Size']\n",
        "\n",
        "    return df\n",
        "\n",
        "X = add_derived_features(X)\n",
        "X_test = add_derived_features(X_test)\n",
        "\n",
        "# ✅ 전처리 함수 (문자형: Label Encoding, 수치형: 평균 대체)\n",
        "def preprocess(df, fit_encoders=None):\n",
        "    df = df.copy()\n",
        "    encoders = fit_encoders if fit_encoders else {}\n",
        "    for col in df.columns:\n",
        "        if df[col].dtype == 'object':\n",
        "            df[col] = df[col].astype(str)\n",
        "            if col not in encoders:\n",
        "                encoders[col] = LabelEncoder().fit(df[col])\n",
        "            df[col] = encoders[col].transform(df[col])\n",
        "        else:\n",
        "            df[col] = SimpleImputer(strategy='mean').fit_transform(df[[col]])\n",
        "    return df, encoders\n",
        "\n",
        "X, encoders = preprocess(X)\n",
        "X_test, _ = preprocess(X_test, encoders)\n",
        "\n",
        "# ✅ 5-Fold 학습 및 앙상블 예측\n",
        "kf = StratifiedKFold(n_splits=5, shuffle=True, random_state=42)\n",
        "oof_preds = np.zeros(len(X))\n",
        "test_preds = np.zeros(len(X_test))\n",
        "\n",
        "for fold, (train_idx, valid_idx) in enumerate(kf.split(X, y)):\n",
        "    X_tr, y_tr = X.iloc[train_idx], y.iloc[train_idx]\n",
        "    X_val, y_val = X.iloc[valid_idx], y.iloc[valid_idx]\n",
        "\n",
        "    model1 = XGBClassifier(use_label_encoder=False, eval_metric='logloss', random_state=fold)\n",
        "    model2 = LGBMClassifier(random_state=fold)\n",
        "    model3 = CatBoostClassifier(verbose=0, random_state=fold)\n",
        "\n",
        "    ensemble_model = VotingClassifier(\n",
        "        estimators=[('xgb', model1), ('lgbm', model2), ('cat', model3)],\n",
        "        voting='soft'\n",
        "    )\n",
        "    ensemble_model.fit(X_tr, y_tr)\n",
        "\n",
        "    oof_preds[valid_idx] = ensemble_model.predict_proba(X_val)[:, 1]\n",
        "    test_preds += ensemble_model.predict_proba(X_test)[:, 1] / kf.n_splits\n",
        "\n",
        "# ✅ Threshold 최적화\n",
        "thresholds = np.arange(0.1, 0.9, 0.01)\n",
        "f1s = [f1_score(y, oof_preds > t) for t in thresholds]\n",
        "best_thresh = thresholds[np.argmax(f1s)]\n",
        "print(f\"Best F1: {max(f1s):.4f} at threshold {best_thresh:.2f}\")\n",
        "\n",
        "# ✅ 결과 저장\n",
        "submission['Cancer'] = (test_preds > best_thresh).astype(int)\n",
        "submission.to_csv(\"submission_final.csv\", index=False)\n"
      ],
      "metadata": {
        "id": "6NEwxNb8tCap",
        "colab": {
          "base_uri": "https://localhost:8080/"
        },
        "outputId": "cddd5e31-d74f-4571-b6cf-131e3de33444"
      },
      "execution_count": 7,
      "outputs": [
        {
          "output_type": "stream",
          "name": "stderr",
          "text": [
            "/usr/local/lib/python3.11/dist-packages/xgboost/core.py:158: UserWarning: [05:05:11] WARNING: /workspace/src/learner.cc:740: \n",
            "Parameters: { \"use_label_encoder\" } are not used.\n",
            "\n",
            "  warnings.warn(smsg, UserWarning)\n"
          ]
        },
        {
          "output_type": "stream",
          "name": "stdout",
          "text": [
            "[LightGBM] [Info] Number of positive: 8367, number of negative: 61360\n",
            "[LightGBM] [Info] Auto-choosing row-wise multi-threading, the overhead of testing was 0.014317 seconds.\n",
            "You can set `force_row_wise=true` to remove the overhead.\n",
            "And if memory is not enough, you can set `force_col_wise=true`.\n",
            "[LightGBM] [Info] Total Bins 4405\n",
            "[LightGBM] [Info] Number of data points in the train set: 69727, number of used features: 29\n",
            "[LightGBM] [Info] [binary:BoostFromScore]: pavg=0.119997 -> initscore=-1.992463\n",
            "[LightGBM] [Info] Start training from score -1.992463\n"
          ]
        },
        {
          "output_type": "stream",
          "name": "stderr",
          "text": [
            "/usr/local/lib/python3.11/dist-packages/xgboost/core.py:158: UserWarning: [05:05:46] WARNING: /workspace/src/learner.cc:740: \n",
            "Parameters: { \"use_label_encoder\" } are not used.\n",
            "\n",
            "  warnings.warn(smsg, UserWarning)\n"
          ]
        },
        {
          "output_type": "stream",
          "name": "stdout",
          "text": [
            "[LightGBM] [Info] Number of positive: 8367, number of negative: 61360\n",
            "[LightGBM] [Info] Auto-choosing row-wise multi-threading, the overhead of testing was 0.011341 seconds.\n",
            "You can set `force_row_wise=true` to remove the overhead.\n",
            "And if memory is not enough, you can set `force_col_wise=true`.\n",
            "[LightGBM] [Info] Total Bins 4405\n",
            "[LightGBM] [Info] Number of data points in the train set: 69727, number of used features: 29\n",
            "[LightGBM] [Info] [binary:BoostFromScore]: pavg=0.119997 -> initscore=-1.992463\n",
            "[LightGBM] [Info] Start training from score -1.992463\n"
          ]
        },
        {
          "output_type": "stream",
          "name": "stderr",
          "text": [
            "/usr/local/lib/python3.11/dist-packages/xgboost/core.py:158: UserWarning: [05:06:12] WARNING: /workspace/src/learner.cc:740: \n",
            "Parameters: { \"use_label_encoder\" } are not used.\n",
            "\n",
            "  warnings.warn(smsg, UserWarning)\n"
          ]
        },
        {
          "output_type": "stream",
          "name": "stdout",
          "text": [
            "[LightGBM] [Info] Number of positive: 8367, number of negative: 61360\n",
            "[LightGBM] [Info] Auto-choosing row-wise multi-threading, the overhead of testing was 0.012942 seconds.\n",
            "You can set `force_row_wise=true` to remove the overhead.\n",
            "And if memory is not enough, you can set `force_col_wise=true`.\n",
            "[LightGBM] [Info] Total Bins 4401\n",
            "[LightGBM] [Info] Number of data points in the train set: 69727, number of used features: 29\n",
            "[LightGBM] [Info] [binary:BoostFromScore]: pavg=0.119997 -> initscore=-1.992463\n",
            "[LightGBM] [Info] Start training from score -1.992463\n"
          ]
        },
        {
          "output_type": "stream",
          "name": "stderr",
          "text": [
            "/usr/local/lib/python3.11/dist-packages/xgboost/core.py:158: UserWarning: [05:06:39] WARNING: /workspace/src/learner.cc:740: \n",
            "Parameters: { \"use_label_encoder\" } are not used.\n",
            "\n",
            "  warnings.warn(smsg, UserWarning)\n"
          ]
        },
        {
          "output_type": "stream",
          "name": "stdout",
          "text": [
            "[LightGBM] [Info] Number of positive: 8367, number of negative: 61360\n",
            "[LightGBM] [Info] Auto-choosing row-wise multi-threading, the overhead of testing was 0.011396 seconds.\n",
            "You can set `force_row_wise=true` to remove the overhead.\n",
            "And if memory is not enough, you can set `force_col_wise=true`.\n",
            "[LightGBM] [Info] Total Bins 4405\n",
            "[LightGBM] [Info] Number of data points in the train set: 69727, number of used features: 29\n",
            "[LightGBM] [Info] [binary:BoostFromScore]: pavg=0.119997 -> initscore=-1.992463\n",
            "[LightGBM] [Info] Start training from score -1.992463\n"
          ]
        },
        {
          "output_type": "stream",
          "name": "stderr",
          "text": [
            "/usr/local/lib/python3.11/dist-packages/xgboost/core.py:158: UserWarning: [05:07:07] WARNING: /workspace/src/learner.cc:740: \n",
            "Parameters: { \"use_label_encoder\" } are not used.\n",
            "\n",
            "  warnings.warn(smsg, UserWarning)\n"
          ]
        },
        {
          "output_type": "stream",
          "name": "stdout",
          "text": [
            "[LightGBM] [Info] Number of positive: 8368, number of negative: 61360\n",
            "[LightGBM] [Info] Auto-choosing row-wise multi-threading, the overhead of testing was 0.011183 seconds.\n",
            "You can set `force_row_wise=true` to remove the overhead.\n",
            "And if memory is not enough, you can set `force_col_wise=true`.\n",
            "[LightGBM] [Info] Total Bins 4401\n",
            "[LightGBM] [Info] Number of data points in the train set: 69728, number of used features: 29\n",
            "[LightGBM] [Info] [binary:BoostFromScore]: pavg=0.120009 -> initscore=-1.992343\n",
            "[LightGBM] [Info] Start training from score -1.992343\n",
            "Best F1: 0.4860 at threshold 0.22\n"
          ]
        }
      ]
    },
    {
      "cell_type": "code",
      "source": [
        "from google.colab import files\n",
        "files.download(\"submission_final.csv\")\n"
      ],
      "metadata": {
        "colab": {
          "base_uri": "https://localhost:8080/",
          "height": 17
        },
        "id": "DH2fqv2E5m9J",
        "outputId": "057c3d89-2aae-4604-964a-70bbba48c2ec"
      },
      "execution_count": 8,
      "outputs": [
        {
          "output_type": "display_data",
          "data": {
            "text/plain": [
              "<IPython.core.display.Javascript object>"
            ],
            "application/javascript": [
              "\n",
              "    async function download(id, filename, size) {\n",
              "      if (!google.colab.kernel.accessAllowed) {\n",
              "        return;\n",
              "      }\n",
              "      const div = document.createElement('div');\n",
              "      const label = document.createElement('label');\n",
              "      label.textContent = `Downloading \"${filename}\": `;\n",
              "      div.appendChild(label);\n",
              "      const progress = document.createElement('progress');\n",
              "      progress.max = size;\n",
              "      div.appendChild(progress);\n",
              "      document.body.appendChild(div);\n",
              "\n",
              "      const buffers = [];\n",
              "      let downloaded = 0;\n",
              "\n",
              "      const channel = await google.colab.kernel.comms.open(id);\n",
              "      // Send a message to notify the kernel that we're ready.\n",
              "      channel.send({})\n",
              "\n",
              "      for await (const message of channel.messages) {\n",
              "        // Send a message to notify the kernel that we're ready.\n",
              "        channel.send({})\n",
              "        if (message.buffers) {\n",
              "          for (const buffer of message.buffers) {\n",
              "            buffers.push(buffer);\n",
              "            downloaded += buffer.byteLength;\n",
              "            progress.value = downloaded;\n",
              "          }\n",
              "        }\n",
              "      }\n",
              "      const blob = new Blob(buffers, {type: 'application/binary'});\n",
              "      const a = document.createElement('a');\n",
              "      a.href = window.URL.createObjectURL(blob);\n",
              "      a.download = filename;\n",
              "      div.appendChild(a);\n",
              "      a.click();\n",
              "      div.remove();\n",
              "    }\n",
              "  "
            ]
          },
          "metadata": {}
        },
        {
          "output_type": "display_data",
          "data": {
            "text/plain": [
              "<IPython.core.display.Javascript object>"
            ],
            "application/javascript": [
              "download(\"download_8228339c-5c93-4d22-96d0-3edecccfc922\", \"submission_final.csv\", 600662)"
            ]
          },
          "metadata": {}
        }
      ]
    },
    {
      "cell_type": "code",
      "source": [
        "import torch\n",
        "print(\"CUDA available:\", torch.cuda.is_available())\n"
      ],
      "metadata": {
        "colab": {
          "base_uri": "https://localhost:8080/"
        },
        "id": "eOGUHFg4RSI0",
        "outputId": "47c7526b-e88e-4d37-82f4-9de9fbd1d053"
      },
      "execution_count": 9,
      "outputs": [
        {
          "output_type": "stream",
          "name": "stdout",
          "text": [
            "CUDA available: True\n"
          ]
        }
      ]
    },
    {
      "cell_type": "code",
      "source": [
        "import optuna\n",
        "from sklearn.ensemble import RandomForestClassifier\n",
        "from sklearn.model_selection import cross_val_score, StratifiedKFold\n",
        "from sklearn.metrics import make_scorer, f1_score\n",
        "import joblib  # 모델 저장용\n",
        "\n",
        "# ✅ F1 score 평가 함수 (for Optuna)\n",
        "def f1_cv(model, X, y):\n",
        "    skf = StratifiedKFold(n_splits=5, shuffle=True, random_state=42)\n",
        "    return cross_val_score(model, X, y, scoring=make_scorer(f1_score), cv=skf).mean()\n",
        "\n",
        "# ✅ Optuna objective 함수\n",
        "def objective(trial):\n",
        "    params = {\n",
        "        \"n_estimators\": trial.suggest_int(\"n_estimators\", 100, 800),\n",
        "        \"max_depth\": trial.suggest_int(\"max_depth\", 4, 20),\n",
        "        \"min_samples_split\": trial.suggest_int(\"min_samples_split\", 2, 10),\n",
        "        \"min_samples_leaf\": trial.suggest_int(\"min_samples_leaf\", 1, 4),\n",
        "    }\n",
        "\n",
        "    model = RandomForestClassifier(\n",
        "        **params,\n",
        "        random_state=42,\n",
        "        n_jobs=-1,\n",
        "        verbose=0\n",
        "    )\n",
        "\n",
        "    return f1_cv(model, X, y)\n",
        "\n",
        "# ✅ Optuna Study 구성\n",
        "study = optuna.create_study(direction='maximize', study_name=\"RF_F1\", sampler=optuna.samplers.TPESampler(seed=42))\n",
        "study.optimize(objective, n_trials=30, timeout=600)  # 최대 10분 제한\n",
        "\n",
        "# ✅ 최적 하이퍼파라미터 출력 및 저장\n",
        "print(\"Best trial:\")\n",
        "print(\"  Value: {:.4f}\".format(study.best_trial.value))\n",
        "print(\"  Params: \", study.best_trial.params)\n",
        "\n",
        "# ✅ 모델 학습 및 저장\n",
        "best_model = RandomForestClassifier(\n",
        "    **study.best_trial.params,\n",
        "    random_state=42,\n",
        "    n_jobs=-1\n",
        ")\n",
        "best_model.fit(X, y)\n",
        "\n",
        "joblib.dump(best_model, \"best_rf_model.pkl\")\n"
      ],
      "metadata": {
        "colab": {
          "base_uri": "https://localhost:8080/"
        },
        "id": "C_iatxX35HCq",
        "outputId": "d2e13748-4be3-4f0d-a5db-64aa1a2cce46"
      },
      "execution_count": 10,
      "outputs": [
        {
          "output_type": "stream",
          "name": "stderr",
          "text": [
            "[I 2025-06-17 05:07:36,124] A new study created in memory with name: RF_F1\n",
            "[I 2025-06-17 05:16:20,342] Trial 0 finished with value: 0.11346833971754519 and parameters: {'n_estimators': 362, 'max_depth': 20, 'min_samples_split': 8, 'min_samples_leaf': 3}. Best is trial 0 with value: 0.11346833971754519.\n",
            "[I 2025-06-17 05:18:21,661] Trial 1 finished with value: 0.0 and parameters: {'n_estimators': 209, 'max_depth': 6, 'min_samples_split': 2, 'min_samples_leaf': 4}. Best is trial 0 with value: 0.11346833971754519.\n"
          ]
        },
        {
          "output_type": "stream",
          "name": "stdout",
          "text": [
            "Best trial:\n",
            "  Value: 0.1135\n",
            "  Params:  {'n_estimators': 362, 'max_depth': 20, 'min_samples_split': 8, 'min_samples_leaf': 3}\n"
          ]
        },
        {
          "output_type": "execute_result",
          "data": {
            "text/plain": [
              "['best_rf_model.pkl']"
            ]
          },
          "metadata": {},
          "execution_count": 10
        }
      ]
    },
    {
      "cell_type": "code",
      "source": [
        "# 최적 하이퍼파라미터 추출\n",
        "best_params = study.best_trial.params\n",
        "\n",
        "# 최적 모델 학습\n",
        "best_model = RandomForestClassifier(\n",
        "    **best_params, random_state=42, n_jobs=-1\n",
        ")\n",
        "best_model.fit(X, y)\n",
        "\n",
        "# 테스트셋 예측\n",
        "test_pred_probs = best_model.predict_proba(X_test)[:, 1]\n",
        "\n",
        "# 임계값 최적화 (훈련 데이터 기반)\n",
        "thresholds = np.arange(0.1, 0.9, 0.01)\n",
        "oof_preds = cross_val_score(best_model, X, y, scoring='f1', cv=5)\n",
        "print(f\"Cross-validated F1: {oof_preds.mean():.4f}\")\n",
        "\n",
        "# 기본 임계값 0.5 적용해 제출 파일 생성\n",
        "submission['Cancer'] = (test_pred_probs > 0.5).astype(int)\n",
        "submission.to_csv(\"submission_optuna_rf.csv\", index=False)\n"
      ],
      "metadata": {
        "colab": {
          "base_uri": "https://localhost:8080/"
        },
        "id": "xlv22-Kz6dPv",
        "outputId": "848e77ae-4455-4512-d33e-7578c4491289"
      },
      "execution_count": 11,
      "outputs": [
        {
          "output_type": "stream",
          "name": "stdout",
          "text": [
            "Cross-validated F1: 0.1077\n"
          ]
        }
      ]
    },
    {
      "cell_type": "code",
      "source": [
        "from google.colab import files\n",
        "files.download(\"submission_optuna_rf.csv\")\n"
      ],
      "metadata": {
        "colab": {
          "base_uri": "https://localhost:8080/",
          "height": 17
        },
        "id": "GLw_5V5G6frP",
        "outputId": "2da0f55b-91ec-44e8-d74d-81a9d49ce6b9"
      },
      "execution_count": 12,
      "outputs": [
        {
          "output_type": "display_data",
          "data": {
            "text/plain": [
              "<IPython.core.display.Javascript object>"
            ],
            "application/javascript": [
              "\n",
              "    async function download(id, filename, size) {\n",
              "      if (!google.colab.kernel.accessAllowed) {\n",
              "        return;\n",
              "      }\n",
              "      const div = document.createElement('div');\n",
              "      const label = document.createElement('label');\n",
              "      label.textContent = `Downloading \"${filename}\": `;\n",
              "      div.appendChild(label);\n",
              "      const progress = document.createElement('progress');\n",
              "      progress.max = size;\n",
              "      div.appendChild(progress);\n",
              "      document.body.appendChild(div);\n",
              "\n",
              "      const buffers = [];\n",
              "      let downloaded = 0;\n",
              "\n",
              "      const channel = await google.colab.kernel.comms.open(id);\n",
              "      // Send a message to notify the kernel that we're ready.\n",
              "      channel.send({})\n",
              "\n",
              "      for await (const message of channel.messages) {\n",
              "        // Send a message to notify the kernel that we're ready.\n",
              "        channel.send({})\n",
              "        if (message.buffers) {\n",
              "          for (const buffer of message.buffers) {\n",
              "            buffers.push(buffer);\n",
              "            downloaded += buffer.byteLength;\n",
              "            progress.value = downloaded;\n",
              "          }\n",
              "        }\n",
              "      }\n",
              "      const blob = new Blob(buffers, {type: 'application/binary'});\n",
              "      const a = document.createElement('a');\n",
              "      a.href = window.URL.createObjectURL(blob);\n",
              "      a.download = filename;\n",
              "      div.appendChild(a);\n",
              "      a.click();\n",
              "      div.remove();\n",
              "    }\n",
              "  "
            ]
          },
          "metadata": {}
        },
        {
          "output_type": "display_data",
          "data": {
            "text/plain": [
              "<IPython.core.display.Javascript object>"
            ],
            "application/javascript": [
              "download(\"download_2afde712-9199-46b2-8e5a-0564ada71523\", \"submission_optuna_rf.csv\", 600662)"
            ]
          },
          "metadata": {}
        }
      ]
    }
  ]
}